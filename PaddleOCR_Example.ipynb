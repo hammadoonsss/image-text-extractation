{
 "cells": [
  {
   "cell_type": "code",
   "execution_count": 1,
   "id": "9a5188e1",
   "metadata": {
    "scrolled": false
   },
   "outputs": [
    {
     "name": "stdout",
     "output_type": "stream",
     "text": [
      "Namespace(benchmark=False, cls_batch_num=6, cls_image_shape='3, 48, 192', cls_model_dir='/home/hammdoon/.paddleocr/2.4/ocr/cls/ch_ppocr_mobile_v2.0_cls_infer', cls_thresh=0.9, cpu_threads=10, crop_res_save_dir='./output', det=True, det_algorithm='DB', det_db_box_thresh=0.6, det_db_score_mode='fast', det_db_thresh=0.3, det_db_unclip_ratio=1.5, det_east_cover_thresh=0.1, det_east_nms_thresh=0.2, det_east_score_thresh=0.8, det_limit_side_len=960, det_limit_type='max', det_model_dir='/home/hammdoon/.paddleocr/2.4/ocr/det/en/en_ppocr_mobile_v2.0_det_infer', det_pse_box_thresh=0.85, det_pse_box_type='box', det_pse_min_area=16, det_pse_scale=1, det_pse_thresh=0, det_sast_nms_thresh=0.2, det_sast_polygon=False, det_sast_score_thresh=0.5, draw_img_save_dir='./inference_results', drop_score=0.5, e2e_algorithm='PGNet', e2e_char_dict_path='./ppocr/utils/ic15_dict.txt', e2e_limit_side_len=768, e2e_limit_type='max', e2e_model_dir=None, e2e_pgnet_mode='fast', e2e_pgnet_score_thresh=0.5, e2e_pgnet_valid_set='totaltext', enable_mkldnn=False, gpu_mem=500, help='==SUPPRESS==', image_dir=None, ir_optim=True, label_list=['0', '180'], label_map_path='./vqa/labels/labels_ser.txt', lang='en', layout_path_model='lp://PubLayNet/ppyolov2_r50vd_dcn_365e_publaynet/config', max_batch_size=10, max_seq_length=512, max_text_length=25, min_subgraph_size=15, mode='structure', model_name_or_path=None, model_storage_directory='./model', ocr_version='PP-OCRv2', output='./output', precision='fp32', process_id=0, rec=True, rec_algorithm='CRNN', rec_batch_num=6, rec_char_dict_path='/home/hammdoon/anaconda3/envs/paddle_env/lib/python3.8/site-packages/paddleocr/ppocr/utils/en_dict.txt', rec_image_shape='3, 32, 320', rec_model_dir='/home/hammdoon/.paddleocr/2.4/ocr/rec/en/en_number_mobile_v2.0_rec_infer', save_crop_res=False, save_log_path='./log_output/', show_log=True, structure_version='STRUCTURE', table_char_dict_path=None, table_char_type='en', table_max_len=488, table_model_dir=None, total_process_num=1, type='ocr', use_angle_cls=True, use_dilation=False, use_gpu=False, use_mp=False, use_onnx=False, use_pdserving=False, use_space_char=True, use_tensorrt=False, vis_font_path='./doc/fonts/simfang.ttf', warmup=False)\n",
      "ocr <paddleocr.paddleocr.PaddleOCR object at 0x7f315c7e3e50>\n"
     ]
    }
   ],
   "source": [
    "from paddleocr import PaddleOCR,draw_ocr\n",
    "# Paddleocr supports Chinese, English, French, German, Korean and Japanese.\n",
    "# You can set the parameter `lang` as `ch`, `en`, `french`, `german`, `korean`, `japan`\n",
    "# to switch the language model in order.\n",
    "ocr = PaddleOCR(use_angle_cls=True, lang='en', model_storage_directory='./model') # need to run only once to download and load model into memory\n",
    "print(\"ocr\", ocr)"
   ]
  },
  {
   "cell_type": "code",
   "execution_count": 2,
   "id": "a55309a5",
   "metadata": {},
   "outputs": [
    {
     "name": "stdout",
     "output_type": "stream",
     "text": [
      "img_path /home/hammdoon/Desktop/Python/Py_Ex_DL/images/drug1.png\n"
     ]
    }
   ],
   "source": [
    "img_path = '/home/hammdoon/Desktop/Python/Py_Ex_DL/images/drug1.png'\n",
    "print(\"img_path\", img_path)"
   ]
  },
  {
   "cell_type": "code",
   "execution_count": 3,
   "id": "f0652dcb",
   "metadata": {},
   "outputs": [
    {
     "name": "stderr",
     "output_type": "stream",
     "text": [
      "DEBUG 2022-06-20 17:24:31,889 predict_system.py:70] dt_boxes num : 6, elapse : 0.24811458587646484\n"
     ]
    },
    {
     "name": "stdout",
     "output_type": "stream",
     "text": [
      "[2022/06/20 17:24:31] root DEBUG: dt_boxes num : 6, elapse : 0.24811458587646484\n"
     ]
    },
    {
     "name": "stderr",
     "output_type": "stream",
     "text": [
      "DEBUG 2022-06-20 17:24:31,983 predict_system.py:85] cls num  : 6, elapse : 0.08548140525817871\n"
     ]
    },
    {
     "name": "stdout",
     "output_type": "stream",
     "text": [
      "[2022/06/20 17:24:31] root DEBUG: cls num  : 6, elapse : 0.08548140525817871\n"
     ]
    },
    {
     "name": "stderr",
     "output_type": "stream",
     "text": [
      "DEBUG 2022-06-20 17:24:32,235 predict_system.py:89] rec_res num  : 6, elapse : 0.25001049041748047\n"
     ]
    },
    {
     "name": "stdout",
     "output_type": "stream",
     "text": [
      "[2022/06/20 17:24:32] root DEBUG: rec_res num  : 6, elapse : 0.25001049041748047\n",
      "[[[114.0, 39.0], [265.0, 5.0], [273.0, 39.0], [121.0, 72.0]], ('Generio', 0.94290954)]\n",
      "[[[422.0, 99.0], [464.0, 89.0], [469.0, 113.0], [428.0, 122.0]], ('1', 0.50314456)]\n",
      "[[[135.0, 118.0], [457.0, 40.0], [467.0, 80.0], [144.0, 158.0]], ('TO APPOINTME', 0.9501942)]\n",
      "[[[302.0, 124.0], [433.0, 94.0], [442.0, 132.0], [311.0, 163.0]], ('THEN', 0.99472636)]\n",
      "[[[146.0, 166.0], [323.0, 122.0], [332.0, 160.0], [155.0, 203.0]], ('ONLY.', 0.9750905)]\n",
      "[[[154.0, 204.0], [455.0, 127.0], [468.0, 175.0], [167.0, 253.0]], ('TWICEDAILY', 0.9954931)]\n"
     ]
    }
   ],
   "source": [
    "result = ocr.ocr(img_path, cls=True)\n",
    "for line in result:\n",
    "    print(line)"
   ]
  },
  {
   "cell_type": "code",
   "execution_count": 4,
   "id": "b3bbd74d",
   "metadata": {},
   "outputs": [],
   "source": [
    "# draw result\n",
    "from PIL import Image\n",
    "image = Image.open(img_path).convert('RGB')\n",
    "boxes = [line[0] for line in result]\n",
    "txts = [line[1][0] for line in result]\n",
    "scores = [line[1][1] for line in result]\n",
    "im_show = draw_ocr(image, boxes, txts, scores, font_path='PaddleOCR/doc/fonts/simfang.ttf')\n",
    "im_show = Image.fromarray(im_show)\n",
    "im_show.save('result1.jpg')"
   ]
  }
 ],
 "metadata": {
  "kernelspec": {
   "display_name": "Python 3 (ipykernel)",
   "language": "python",
   "name": "python3"
  },
  "language_info": {
   "codemirror_mode": {
    "name": "ipython",
    "version": 3
   },
   "file_extension": ".py",
   "mimetype": "text/x-python",
   "name": "python",
   "nbconvert_exporter": "python",
   "pygments_lexer": "ipython3",
   "version": "3.8.13"
  }
 },
 "nbformat": 4,
 "nbformat_minor": 5
}
